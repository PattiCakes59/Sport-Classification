{
 "cells": [
  {
   "cell_type": "markdown",
   "metadata": {},
   "source": [
    "# Summary of Repository\n",
    "1. Images Folder\n",
    " - This folder contains images that were used to add some flair to the SummaryNotebook and README.\n",
    "  - It also contains an image under the title \"randomsample\" used to test the model.\n",
    " - This is the <a href=https://github.com/PattiCakes59/Sport-Classification/tree/main/NotebookImages>link</a> to the repository page.\n",
    "2. Notebooks Folder\n",
    " - The Notebooks folder contains the different Jupyter notebooks that I created in order to get to the final notebook.\n",
    " - The notebook with my final model and data examination falls under the heading \"SummaryNotebook\".\n",
    "  - This gives my results and final evalutaion.\n",
    " - The <a href=https://github.com/PattiCakes59/Sport-Classification/tree/main/Notebooks>link</a> to the notebook repository.\n",
    "3. README\n",
    " - The <a href=https://github.com/PattiCakes59/Sport-Classification/blob/main/README.md>README</a> contains information about:\n",
    "   >1. Navigation to the Data (there is a detailed set of instructions to navigate to the data on how to load it up)\n",
    "   >2. Business Problem\n",
    "   >3. Project Goals\n",
    "   >4. Modeling Process and Approach\n",
    "   >5. Results and Conlclusions\n",
    "4. environment_droplet\n",
    " - This is a list of the <a href=https://github.com/PattiCakes59/Sport-Classification/blob/main/environment_droplet.yml>libraries and imports</a> that will be necessary to build and run these notebooks.\n"
   ]
  }
 ],
 "metadata": {
  "kernelspec": {
   "display_name": "Python (learn-env)",
   "language": "python",
   "name": "learn-env"
  },
  "language_info": {
   "codemirror_mode": {
    "name": "ipython",
    "version": 3
   },
   "file_extension": ".py",
   "mimetype": "text/x-python",
   "name": "python",
   "nbconvert_exporter": "python",
   "pygments_lexer": "ipython3",
   "version": "3.8.5"
  }
 },
 "nbformat": 4,
 "nbformat_minor": 4
}
